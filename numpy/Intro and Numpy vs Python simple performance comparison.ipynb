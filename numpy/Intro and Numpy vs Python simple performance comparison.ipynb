{
 "cells": [
  {
   "cell_type": "code",
   "execution_count": 1,
   "metadata": {},
   "outputs": [],
   "source": [
    "import time\n",
    "import numpy as np"
   ]
  },
  {
   "cell_type": "code",
   "execution_count": 4,
   "metadata": {},
   "outputs": [],
   "source": [
    "x = np.random.random(100000000)"
   ]
  },
  {
   "cell_type": "code",
   "execution_count": 14,
   "metadata": {},
   "outputs": [
    {
     "name": "stdout",
     "output_type": "stream",
     "text": [
      "Time:  24.500373363494873\n",
      "Mean:  0.5000225069877735\n"
     ]
    }
   ],
   "source": [
    "# plain python mean calculaton\n",
    "\n",
    "start = time.time()\n",
    "mean = sum(x) / len(x)\n",
    "print('Time: ', time.time() - start)\n",
    "print('Mean: ', mean)"
   ]
  },
  {
   "cell_type": "code",
   "execution_count": 13,
   "metadata": {},
   "outputs": [
    {
     "name": "stdout",
     "output_type": "stream",
     "text": [
      "Time:  0.08407902717590332\n",
      "Mean:  0.5000225069878356\n"
     ]
    }
   ],
   "source": [
    "start = time.time()\n",
    "mean = np.mean(x)\n",
    "print('Time: ', time.time() - start)\n",
    "print('Mean: ', mean)"
   ]
  }
 ],
 "metadata": {
  "kernelspec": {
   "display_name": "Python 3",
   "language": "python",
   "name": "python3"
  },
  "language_info": {
   "codemirror_mode": {
    "name": "ipython",
    "version": 3
   },
   "file_extension": ".py",
   "mimetype": "text/x-python",
   "name": "python",
   "nbconvert_exporter": "python",
   "pygments_lexer": "ipython3",
   "version": "3.9.1"
  }
 },
 "nbformat": 4,
 "nbformat_minor": 4
}

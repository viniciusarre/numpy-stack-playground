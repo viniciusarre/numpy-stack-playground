{
 "cells": [
  {
   "cell_type": "code",
   "execution_count": 1,
   "metadata": {},
   "outputs": [],
   "source": [
    "import numpy as np"
   ]
  },
  {
   "cell_type": "code",
   "execution_count": 13,
   "metadata": {},
   "outputs": [
    {
     "name": "stdout",
     "output_type": "stream",
     "text": [
      "[[ 0  1  2  3  4]\n",
      " [ 5  6  7  8  9]\n",
      " [10 11 12 13 14]\n",
      " [15 16 17 18 19]\n",
      " [20 21 22 23 24]]\n"
     ]
    }
   ],
   "source": [
    "X = np.arange(25).reshape(5, 5)\n",
    "print(X)"
   ]
  },
  {
   "cell_type": "code",
   "execution_count": 3,
   "metadata": {},
   "outputs": [
    {
     "name": "stdout",
     "output_type": "stream",
     "text": [
      "[11 12 13 14 15 16 17 18 19 20 21 22 23 24]\n"
     ]
    }
   ],
   "source": [
    "z = X[X > 10]\n",
    "print(z)"
   ]
  },
  {
   "cell_type": "code",
   "execution_count": 4,
   "metadata": {},
   "outputs": [
    {
     "name": "stdout",
     "output_type": "stream",
     "text": [
      "[0 1 2 3 4 5 6 7]\n"
     ]
    }
   ],
   "source": [
    "z = X[X <= 7]\n",
    "print(z)"
   ]
  },
  {
   "cell_type": "code",
   "execution_count": 11,
   "metadata": {},
   "outputs": [
    {
     "name": "stdout",
     "output_type": "stream",
     "text": [
      "[]\n"
     ]
    }
   ],
   "source": [
    "z = X[(X > 10) & (X < 17)]\n",
    "print(z)"
   ]
  },
  {
   "cell_type": "code",
   "execution_count": 16,
   "metadata": {
    "scrolled": true
   },
   "outputs": [
    {
     "name": "stdout",
     "output_type": "stream",
     "text": [
      "[[ 0  1  2  3  4]\n",
      " [ 5  6  7  8  9]\n",
      " [10 -1 -1 -1 -1]\n",
      " [-1 -1 17 18 19]\n",
      " [20 21 22 23 24]]\n"
     ]
    }
   ],
   "source": [
    "X[(X > 10) & (X < 17)] = -1\n",
    "print(X)"
   ]
  },
  {
   "cell_type": "code",
   "execution_count": 18,
   "metadata": {},
   "outputs": [
    {
     "name": "stdout",
     "output_type": "stream",
     "text": [
      "[3 4]\n",
      "[1 2 5]\n",
      "[1 2 3 4 5 6 7 8]\n"
     ]
    }
   ],
   "source": [
    "# Set operations\n",
    "\n",
    "x = np.array([1, 2, 3, 4, 5])\n",
    "y = np.array([6, 7, 3, 8, 4])\n",
    "\n",
    "print(np.intersect1d(x, y))\n",
    "print(np.setdiff1d(x, y))\n",
    "print(np.union1d(x, y))"
   ]
  },
  {
   "cell_type": "code",
   "execution_count": 20,
   "metadata": {},
   "outputs": [
    {
     "name": "stdout",
     "output_type": "stream",
     "text": [
      "[1 2 6 6 7 2 5 2 9 6]\n"
     ]
    }
   ],
   "source": [
    "x = np.random.randint(1, 11, size=(10, ))\n",
    "print(x)"
   ]
  },
  {
   "cell_type": "code",
   "execution_count": 24,
   "metadata": {},
   "outputs": [
    {
     "name": "stdout",
     "output_type": "stream",
     "text": [
      "[1 2 2 2 5 6 6 6 7 9]\n",
      "[1 2 6 6 7 2 5 2 9 6]\n",
      "[1 2 2 2 5 6 6 6 7 9]\n"
     ]
    }
   ],
   "source": [
    "print(np.sort(x))\n",
    "# np.sort sorts x out of place and leave it as is\n",
    "print(x)\n",
    "# whilst x.sort modifies x\n",
    "x.sort()\n",
    "print(x)\n"
   ]
  },
  {
   "cell_type": "code",
   "execution_count": 23,
   "metadata": {},
   "outputs": [
    {
     "name": "stdout",
     "output_type": "stream",
     "text": [
      "[1 2 5 6 7 9]\n"
     ]
    }
   ],
   "source": [
    "# sort and combine unique values\n",
    "print(np.sort(np.unique(x)))"
   ]
  },
  {
   "cell_type": "code",
   "execution_count": 25,
   "metadata": {},
   "outputs": [
    {
     "name": "stdout",
     "output_type": "stream",
     "text": [
      "[[ 5  7 10  6  3]\n",
      " [ 3  4  9  9  2]\n",
      " [ 2 10  6  2  5]\n",
      " [ 3  1  1  7  9]\n",
      " [10  6  9  6  9]]\n"
     ]
    }
   ],
   "source": [
    "x = np.random.randint(1, 11, size=(5,5 ))\n",
    "print(x)"
   ]
  },
  {
   "cell_type": "code",
   "execution_count": 30,
   "metadata": {},
   "outputs": [
    {
     "name": "stdout",
     "output_type": "stream",
     "text": [
      "[[ 3  5  6  7 10]\n",
      " [ 2  3  4  9  9]\n",
      " [ 2  2  5  6 10]\n",
      " [ 1  1  3  7  9]\n",
      " [ 6  6  9  9 10]]\n",
      "\n",
      " [[ 2  1  1  2  2]\n",
      " [ 3  4  6  6  3]\n",
      " [ 3  6  9  6  5]\n",
      " [ 5  7  9  7  9]\n",
      " [10 10 10  9  9]]\n"
     ]
    }
   ],
   "source": [
    "# sorting by row\n",
    "z = np.sort(x, axis = 1)\n",
    "print(z)\n",
    "\n",
    "#sorting by column\n",
    "z = np.sort(x, axis = 0)\n",
    "print('\\n', z)"
   ]
  },
  {
   "cell_type": "code",
   "execution_count": null,
   "metadata": {},
   "outputs": [],
   "source": [
    "# QUIZ \n",
    "# Create a 5 x 5 ndarray with consecutive integers from 1 to 25 (inclusive).\n",
    "# Afterwards use Boolean indexing to pick out only the odd numbers in the array\n",
    "\n",
    "# Create a 5 x 5 ndarray with consecutive integers from 1 to 25 (inclusive).\n",
    "X = np.arange(1, 26).reshape(5, 5)\n",
    "\n",
    "print(X)\n",
    "\n",
    "# Use Boolean indexing to pick out only the odd numbers in the array\n",
    "Y = X[X % 2 != 0]\n",
    "\n",
    "print(Y)\n"
   ]
  }
 ],
 "metadata": {
  "kernelspec": {
   "display_name": "Python 3",
   "language": "python",
   "name": "python3"
  },
  "language_info": {
   "codemirror_mode": {
    "name": "ipython",
    "version": 3
   },
   "file_extension": ".py",
   "mimetype": "text/x-python",
   "name": "python",
   "nbconvert_exporter": "python",
   "pygments_lexer": "ipython3",
   "version": "3.9.1"
  }
 },
 "nbformat": 4,
 "nbformat_minor": 4
}
